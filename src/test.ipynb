{
 "cells": [
  {
   "cell_type": "markdown",
   "metadata": {},
   "source": [
    "### PyTorch implementation of the RIM paper (Recurrent Independent Mechanism)"
   ]
  },
  {
   "cell_type": "code",
   "execution_count": 27,
   "metadata": {},
   "outputs": [],
   "source": [
    "import torch\n",
    "import torch.nn as nn\n",
    "import torch.nn.functional as F\n",
    "import os\n",
    "import numpy as np\n",
    "from tqdm import tqdm\n",
    "import matplotlib.pyplot as plt\n",
    "import math \n",
    "\n",
    "device = torch.device(\"cuda\" if torch.cuda.is_available() else \"cpu\")\n",
    "\n",
    "from rim import RIMNetwork,RIMNetwork_specialized,RIMNetwork_specialized_multHead,RIMNetwork_multHead\n",
    "\n",
    "def compress_labels(labels):\n",
    "    new_labels = np.zeros_like(labels)\n",
    "    for i in range(labels.shape[0]):\n",
    "        prev_val = 0\n",
    "        for j in range(labels.shape[1]):\n",
    "            curr_val = labels[i,j]\n",
    "            if curr_val != 0 and curr_val == prev_val:\n",
    "                new_labels[i,j] = 0\n",
    "            else:\n",
    "                new_labels[i,j] = curr_val\n",
    "                if j+1 < labels.shape[1]:\n",
    "                    new_labels[i,j+1] = 1 # oopas???\n",
    "            prev_val = curr_val\n",
    "    return new_labels\n",
    "\n",
    "\n",
    "def compress_labels(labels):\n",
    "    new_labels = np.zeros_like(labels)\n",
    "    for i in range(labels.shape[0]):\n",
    "        prev_val = 0\n",
    "        repeat_count = 0\n",
    "        for j in range(labels.shape[1]):\n",
    "            curr_val = labels[i,j]\n",
    "            if curr_val != 0 and curr_val == prev_val:\n",
    "                repeat_count += 1\n",
    "                if repeat_count >= 2:  # After two occurrences, start zeroing out\n",
    "                    new_labels[i,j] = 0\n",
    "                else:\n",
    "                    new_labels[i,j] = curr_val\n",
    "            else:\n",
    "                new_labels[i,j] = curr_val\n",
    "                repeat_count = 0\n",
    "            prev_val = curr_val\n",
    "    return new_labels"
   ]
  },
  {
   "cell_type": "markdown",
   "metadata": {},
   "source": [
    "### Multitask training"
   ]
  },
  {
   "cell_type": "code",
   "execution_count": 28,
   "metadata": {},
   "outputs": [],
   "source": [
    "from torch.utils.data import Dataset, DataLoader\n",
    "import matplotlib.font_manager\n",
    "from neurogym import Dataset\n",
    "from Mod_Cog.mod_cog_tasks import *\n",
    "from matplotlib import rcParams\n",
    "rcParams['font.sans-serif'] = \"ubuntu\"\n",
    "rcParams['font.family'] = \"ubuntu\""
   ]
  },
  {
   "cell_type": "code",
   "execution_count": 29,
   "metadata": {},
   "outputs": [
    {
     "name": "stdout",
     "output_type": "stream",
     "text": [
      "obs size 53 act_size 17\n",
      "inputs (100, 64, 53) labels (100, 64)\n"
     ]
    }
   ],
   "source": [
    "envs_simple = [go(), rtgo(), dlygo(), anti(), rtanti(), dlyanti(),\n",
    "                dm1(), dm2(), ctxdm1(), ctxdm2(), multidm(), \n",
    "                dlydm1(), dlydm2(), ctxdlydm1(), ctxdlydm2(), multidlydm(), \n",
    "                dms(), dnms(), dmc(), dnmc()]\n",
    "\n",
    "# envs_simple = [go(), rtgo(), dlygo(), anti(), rtanti(), dlyanti(),ctxdm1(), ctxdm2()]\n",
    "\n",
    "schedule = RandomSchedule(len(envs_simple))\n",
    "env = ScheduleEnvs(envs_simple, schedule=schedule, env_input=True)\n",
    "\n",
    "# iterable dataset from which it is possible to draw samples\n",
    "dataset = Dataset(env, batch_size=64, seq_len=100)\n",
    "ob_size = env.observation_space.shape[0]\n",
    "act_size = env.action_space.n\n",
    "\n",
    "print('obs size', ob_size, 'act_size', act_size)\n",
    "\n",
    "# To draw samples, use neurogym's dataset class:\n",
    "inputs, labels = dataset()\n",
    "print('inputs', inputs.shape, 'labels', labels.shape)"
   ]
  },
  {
   "cell_type": "code",
   "execution_count": 30,
   "metadata": {},
   "outputs": [
    {
     "name": "stdout",
     "output_type": "stream",
     "text": [
      "Number of parameters: 39953\n"
     ]
    }
   ],
   "source": [
    "batch_size = 64\n",
    "hidden_size = 64\n",
    "learning_rate = 0.001\n",
    "num_epochs = 50\n",
    "\n",
    "input_size = ob_size\n",
    "output_size = act_size\n",
    "\n",
    "num_mechanisms = 3\n",
    "key_size = 2\n",
    "rank = 2\n",
    "num_heads = 1\n",
    "\n",
    "\n",
    "model = RIMNetwork_multHead(input_size, hidden_size, output_size, num_mechanisms=num_mechanisms,\n",
    "                key_size=key_size, rank=rank, num_heads=num_heads,task_size=len(envs_simple)).to(device)\n",
    "\n",
    "optimizer = torch.optim.Adam(model.parameters(), lr=learning_rate)\n",
    "\n",
    "total_params = sum(p.numel() for p in model.parameters())\n",
    "print(f\"Number of parameters: {total_params}\")"
   ]
  },
  {
   "cell_type": "code",
   "execution_count": 31,
   "metadata": {},
   "outputs": [
    {
     "data": {
      "image/png": "[encoded data removed]",
      "text/plain": [
       "<Figure size 640x480 with 1 Axes>"
      ]
     },
     "metadata": {},
     "output_type": "display_data"
    },
    {
     "data": {
      "image/png": "[encoded data removed]",
      "text/plain": [
       "<Figure size 640x480 with 1 Axes>"
      ]
     },
     "metadata": {},
     "output_type": "display_data"
    }
   ],
   "source": [
    "inputs, labels = dataset()\n",
    "labels = np.transpose(labels, (1, 0))\n",
    "plt.figure()\n",
    "plt.imshow(labels)\n",
    "plt.show()\n",
    "labels_compressed = compress_labels(labels)\n",
    "plt.figure()\n",
    "plt.imshow(labels_compressed)\n",
    "plt.show()"
   ]
  },
  {
   "cell_type": "code",
   "execution_count": 33,
   "metadata": {},
   "outputs": [
    {
     "name": "stderr",
     "output_type": "stream",
     "text": [
      "  0%|          | 0/5000 [00:00<?, ?it/s]/tmp/ipykernel_528801/691184499.py:12: UserWarning: To copy construct from a tensor, it is recommended to use sourceTensor.clone().detach() or sourceTensor.clone().detach().requires_grad_(True), rather than torch.tensor(sourceTensor).\n",
      "  fixation_mask = torch.tensor(fixation_mask).to(device)\n",
      "  0%|          | 1/5000 [00:00<45:07,  1.85it/s]"
     ]
    },
    {
     "name": "stdout",
     "output_type": "stream",
     "text": [
      "Step [0/5000], Loss: 3.0547468662261963\n",
      "accuracy 0.027135678391959798\n"
     ]
    },
    {
     "name": "stderr",
     "output_type": "stream",
     "text": [
      "  2%|▏         | 101/5000 [00:51<41:58,  1.95it/s]"
     ]
    },
    {
     "name": "stdout",
     "output_type": "stream",
     "text": [
      "Step [100/5000], Loss: 0.7980892062187195\n",
      "accuracy 0.0\n"
     ]
    },
    {
     "name": "stderr",
     "output_type": "stream",
     "text": [
      "  4%|▍         | 201/5000 [01:39<38:38,  2.07it/s]"
     ]
    },
    {
     "name": "stdout",
     "output_type": "stream",
     "text": [
      "Step [200/5000], Loss: 0.7370314598083496\n",
      "accuracy 0.015682656826568265\n"
     ]
    },
    {
     "name": "stderr",
     "output_type": "stream",
     "text": [
      "  6%|▌         | 301/5000 [02:28<38:16,  2.05it/s]"
     ]
    },
    {
     "name": "stdout",
     "output_type": "stream",
     "text": [
      "Step [300/5000], Loss: 0.7062100768089294\n",
      "accuracy 0.09126984126984126\n"
     ]
    },
    {
     "name": "stderr",
     "output_type": "stream",
     "text": [
      "  8%|▊         | 401/5000 [03:18<38:27,  1.99it/s]"
     ]
    },
    {
     "name": "stdout",
     "output_type": "stream",
     "text": [
      "Step [400/5000], Loss: 0.6964573860168457\n",
      "accuracy 0.16785079928952043\n"
     ]
    },
    {
     "name": "stderr",
     "output_type": "stream",
     "text": [
      " 10%|█         | 501/5000 [04:07<36:22,  2.06it/s]"
     ]
    },
    {
     "name": "stdout",
     "output_type": "stream",
     "text": [
      "Step [500/5000], Loss: 0.6055511832237244\n",
      "accuracy 0.2787212787212787\n"
     ]
    },
    {
     "name": "stderr",
     "output_type": "stream",
     "text": [
      " 12%|█▏        | 601/5000 [04:56<36:20,  2.02it/s]"
     ]
    },
    {
     "name": "stdout",
     "output_type": "stream",
     "text": [
      "Step [600/5000], Loss: 0.5807015895843506\n",
      "accuracy 0.4411492122335496\n"
     ]
    },
    {
     "name": "stderr",
     "output_type": "stream",
     "text": [
      " 14%|█▍        | 701/5000 [05:47<35:53,  2.00it/s]"
     ]
    },
    {
     "name": "stdout",
     "output_type": "stream",
     "text": [
      "Step [700/5000], Loss: 0.551259458065033\n",
      "accuracy 0.5386554621848739\n"
     ]
    },
    {
     "name": "stderr",
     "output_type": "stream",
     "text": [
      " 16%|█▌        | 801/5000 [06:38<35:15,  1.99it/s]"
     ]
    },
    {
     "name": "stdout",
     "output_type": "stream",
     "text": [
      "Step [800/5000], Loss: 0.504417896270752\n",
      "accuracy 0.6039510818438382\n"
     ]
    },
    {
     "name": "stderr",
     "output_type": "stream",
     "text": [
      " 18%|█▊        | 901/5000 [07:28<34:06,  2.00it/s]"
     ]
    },
    {
     "name": "stdout",
     "output_type": "stream",
     "text": [
      "Step [900/5000], Loss: 0.47702595591545105\n",
      "accuracy 0.6401124648547329\n"
     ]
    },
    {
     "name": "stderr",
     "output_type": "stream",
     "text": [
      " 20%|██        | 1001/5000 [08:16<32:00,  2.08it/s]"
     ]
    },
    {
     "name": "stdout",
     "output_type": "stream",
     "text": [
      "Step [1000/5000], Loss: 0.46638813614845276\n",
      "accuracy 0.6494464944649446\n"
     ]
    },
    {
     "name": "stderr",
     "output_type": "stream",
     "text": [
      " 22%|██▏       | 1101/5000 [09:06<33:22,  1.95it/s]"
     ]
    },
    {
     "name": "stdout",
     "output_type": "stream",
     "text": [
      "Step [1100/5000], Loss: 0.45670267939567566\n",
      "accuracy 0.6725317693059628\n"
     ]
    },
    {
     "name": "stderr",
     "output_type": "stream",
     "text": [
      " 24%|██▍       | 1201/5000 [09:58<33:10,  1.91it/s]"
     ]
    },
    {
     "name": "stdout",
     "output_type": "stream",
     "text": [
      "Step [1200/5000], Loss: 0.4556584656238556\n",
      "accuracy 0.6878504672897197\n"
     ]
    },
    {
     "name": "stderr",
     "output_type": "stream",
     "text": [
      " 26%|██▌       | 1301/5000 [10:51<31:21,  1.97it/s]"
     ]
    },
    {
     "name": "stdout",
     "output_type": "stream",
     "text": [
      "Step [1300/5000], Loss: 0.4396360218524933\n",
      "accuracy 0.7277829747427502\n"
     ]
    },
    {
     "name": "stderr",
     "output_type": "stream",
     "text": [
      " 28%|██▊       | 1401/5000 [11:42<30:21,  1.98it/s]"
     ]
    },
    {
     "name": "stdout",
     "output_type": "stream",
     "text": [
      "Step [1400/5000], Loss: 0.4281165897846222\n",
      "accuracy 0.7295597484276729\n"
     ]
    },
    {
     "name": "stderr",
     "output_type": "stream",
     "text": [
      " 30%|███       | 1501/5000 [12:34<30:21,  1.92it/s]"
     ]
    },
    {
     "name": "stdout",
     "output_type": "stream",
     "text": [
      "Step [1500/5000], Loss: 0.4174588620662689\n",
      "accuracy 0.7334649555774926\n"
     ]
    },
    {
     "name": "stderr",
     "output_type": "stream",
     "text": [
      " 32%|███▏      | 1601/5000 [13:25<28:16,  2.00it/s]"
     ]
    },
    {
     "name": "stdout",
     "output_type": "stream",
     "text": [
      "Step [1600/5000], Loss: 0.42770084738731384\n",
      "accuracy 0.7006610009442871\n"
     ]
    },
    {
     "name": "stderr",
     "output_type": "stream",
     "text": [
      " 34%|███▍      | 1701/5000 [14:16<28:00,  1.96it/s]"
     ]
    },
    {
     "name": "stdout",
     "output_type": "stream",
     "text": [
      "Step [1700/5000], Loss: 0.41412657499313354\n",
      "accuracy 0.7396883593033914\n"
     ]
    },
    {
     "name": "stderr",
     "output_type": "stream",
     "text": [
      " 36%|███▌      | 1801/5000 [15:06<25:02,  2.13it/s]"
     ]
    },
    {
     "name": "stdout",
     "output_type": "stream",
     "text": [
      "Step [1800/5000], Loss: 0.3974980413913727\n",
      "accuracy 0.7555762081784386\n"
     ]
    },
    {
     "name": "stderr",
     "output_type": "stream",
     "text": [
      " 38%|███▊      | 1901/5000 [15:54<23:39,  2.18it/s]"
     ]
    },
    {
     "name": "stdout",
     "output_type": "stream",
     "text": [
      "Step [1900/5000], Loss: 0.40709400177001953\n",
      "accuracy 0.7610619469026548\n"
     ]
    },
    {
     "name": "stderr",
     "output_type": "stream",
     "text": [
      " 40%|████      | 2001/5000 [16:43<24:12,  2.06it/s]"
     ]
    },
    {
     "name": "stdout",
     "output_type": "stream",
     "text": [
      "Step [2000/5000], Loss: 0.3941485583782196\n",
      "accuracy 0.7481343283582089\n"
     ]
    },
    {
     "name": "stderr",
     "output_type": "stream",
     "text": [
      " 42%|████▏     | 2101/5000 [17:32<25:52,  1.87it/s]"
     ]
    },
    {
     "name": "stdout",
     "output_type": "stream",
     "text": [
      "Step [2100/5000], Loss: 0.39674633741378784\n",
      "accuracy 0.7953110910730388\n"
     ]
    },
    {
     "name": "stderr",
     "output_type": "stream",
     "text": [
      " 44%|████▍     | 2201/5000 [18:25<24:46,  1.88it/s]"
     ]
    },
    {
     "name": "stdout",
     "output_type": "stream",
     "text": [
      "Step [2200/5000], Loss: 0.3895812928676605\n",
      "accuracy 0.7934224049331963\n"
     ]
    },
    {
     "name": "stderr",
     "output_type": "stream",
     "text": [
      " 46%|████▌     | 2301/5000 [19:16<25:15,  1.78it/s]"
     ]
    },
    {
     "name": "stdout",
     "output_type": "stream",
     "text": [
      "Step [2300/5000], Loss: 0.39639654755592346\n",
      "accuracy 0.8294062205466541\n"
     ]
    },
    {
     "name": "stderr",
     "output_type": "stream",
     "text": [
      " 48%|████▊     | 2401/5000 [20:08<21:40,  2.00it/s]"
     ]
    },
    {
     "name": "stdout",
     "output_type": "stream",
     "text": [
      "Step [2400/5000], Loss: 0.3841980993747711\n",
      "accuracy 0.7758784425451092\n"
     ]
    },
    {
     "name": "stderr",
     "output_type": "stream",
     "text": [
      " 50%|█████     | 2501/5000 [21:01<22:56,  1.82it/s]"
     ]
    },
    {
     "name": "stdout",
     "output_type": "stream",
     "text": [
      "Step [2500/5000], Loss: 0.39041540026664734\n",
      "accuracy 0.779\n"
     ]
    },
    {
     "name": "stderr",
     "output_type": "stream",
     "text": [
      " 52%|█████▏    | 2601/5000 [21:53<20:59,  1.90it/s]"
     ]
    },
    {
     "name": "stdout",
     "output_type": "stream",
     "text": [
      "Step [2600/5000], Loss: 0.3794448971748352\n",
      "accuracy 0.8545618789521229\n"
     ]
    },
    {
     "name": "stderr",
     "output_type": "stream",
     "text": [
      " 54%|█████▍    | 2701/5000 [22:45<19:39,  1.95it/s]"
     ]
    },
    {
     "name": "stdout",
     "output_type": "stream",
     "text": [
      "Step [2700/5000], Loss: 0.4015601575374603\n",
      "accuracy 0.7301006404391582\n"
     ]
    },
    {
     "name": "stderr",
     "output_type": "stream",
     "text": [
      " 56%|█████▌    | 2801/5000 [23:35<19:23,  1.89it/s]"
     ]
    },
    {
     "name": "stdout",
     "output_type": "stream",
     "text": [
      "Step [2800/5000], Loss: 0.37700340151786804\n",
      "accuracy 0.8203883495145631\n"
     ]
    },
    {
     "name": "stderr",
     "output_type": "stream",
     "text": [
      " 58%|█████▊    | 2901/5000 [24:28<18:21,  1.91it/s]"
     ]
    },
    {
     "name": "stdout",
     "output_type": "stream",
     "text": [
      "Step [2900/5000], Loss: 0.36973345279693604\n",
      "accuracy 0.8042430086788814\n"
     ]
    },
    {
     "name": "stderr",
     "output_type": "stream",
     "text": [
      " 60%|██████    | 3001/5000 [25:20<15:55,  2.09it/s]"
     ]
    },
    {
     "name": "stdout",
     "output_type": "stream",
     "text": [
      "Step [3000/5000], Loss: 0.38096708059310913\n",
      "accuracy 0.7679611650485437\n"
     ]
    },
    {
     "name": "stderr",
     "output_type": "stream",
     "text": [
      " 62%|██████▏   | 3101/5000 [26:10<16:03,  1.97it/s]"
     ]
    },
    {
     "name": "stdout",
     "output_type": "stream",
     "text": [
      "Step [3100/5000], Loss: 0.3758688271045685\n",
      "accuracy 0.7540514775977121\n"
     ]
    },
    {
     "name": "stderr",
     "output_type": "stream",
     "text": [
      " 64%|██████▍   | 3201/5000 [27:01<15:40,  1.91it/s]"
     ]
    },
    {
     "name": "stdout",
     "output_type": "stream",
     "text": [
      "Step [3200/5000], Loss: 0.3747000992298126\n",
      "accuracy 0.7955390334572491\n"
     ]
    },
    {
     "name": "stderr",
     "output_type": "stream",
     "text": [
      " 66%|██████▌   | 3301/5000 [27:52<14:22,  1.97it/s]"
     ]
    },
    {
     "name": "stdout",
     "output_type": "stream",
     "text": [
      "Step [3300/5000], Loss: 0.3921952545642853\n",
      "accuracy 0.74408014571949\n"
     ]
    },
    {
     "name": "stderr",
     "output_type": "stream",
     "text": [
      " 68%|██████▊   | 3401/5000 [28:44<13:13,  2.01it/s]"
     ]
    },
    {
     "name": "stdout",
     "output_type": "stream",
     "text": [
      "Step [3400/5000], Loss: 0.36724308133125305\n",
      "accuracy 0.8021295474711624\n"
     ]
    },
    {
     "name": "stderr",
     "output_type": "stream",
     "text": [
      " 70%|███████   | 3501/5000 [29:35<12:47,  1.95it/s]"
     ]
    },
    {
     "name": "stdout",
     "output_type": "stream",
     "text": [
      "Step [3500/5000], Loss: 0.37885311245918274\n",
      "accuracy 0.7795555555555556\n"
     ]
    },
    {
     "name": "stderr",
     "output_type": "stream",
     "text": [
      " 72%|███████▏  | 3601/5000 [30:28<12:03,  1.93it/s]"
     ]
    },
    {
     "name": "stdout",
     "output_type": "stream",
     "text": [
      "Step [3600/5000], Loss: 0.3735898733139038\n",
      "accuracy 0.8146754468485419\n"
     ]
    },
    {
     "name": "stderr",
     "output_type": "stream",
     "text": [
      " 74%|███████▍  | 3701/5000 [31:21<11:02,  1.96it/s]"
     ]
    },
    {
     "name": "stdout",
     "output_type": "stream",
     "text": [
      "Step [3700/5000], Loss: 0.36418798565864563\n",
      "accuracy 0.8287292817679558\n"
     ]
    },
    {
     "name": "stderr",
     "output_type": "stream",
     "text": [
      " 76%|███████▌  | 3801/5000 [32:12<10:34,  1.89it/s]"
     ]
    },
    {
     "name": "stdout",
     "output_type": "stream",
     "text": [
      "Step [3800/5000], Loss: 0.3653619885444641\n",
      "accuracy 0.7784371909000989\n"
     ]
    },
    {
     "name": "stderr",
     "output_type": "stream",
     "text": [
      " 78%|███████▊  | 3901/5000 [33:05<10:01,  1.83it/s]"
     ]
    },
    {
     "name": "stdout",
     "output_type": "stream",
     "text": [
      "Step [3900/5000], Loss: 0.36059287190437317\n",
      "accuracy 0.8188331627430911\n"
     ]
    },
    {
     "name": "stderr",
     "output_type": "stream",
     "text": [
      " 80%|████████  | 4001/5000 [34:00<08:33,  1.94it/s]"
     ]
    },
    {
     "name": "stdout",
     "output_type": "stream",
     "text": [
      "Step [4000/5000], Loss: 0.35613107681274414\n",
      "accuracy 0.8390243902439024\n"
     ]
    },
    {
     "name": "stderr",
     "output_type": "stream",
     "text": [
      " 82%|████████▏ | 4101/5000 [34:55<08:43,  1.72it/s]"
     ]
    },
    {
     "name": "stdout",
     "output_type": "stream",
     "text": [
      "Step [4100/5000], Loss: 0.35922861099243164\n",
      "accuracy 0.7973657548125633\n"
     ]
    },
    {
     "name": "stderr",
     "output_type": "stream",
     "text": [
      " 84%|████████▍ | 4201/5000 [35:49<07:06,  1.87it/s]"
     ]
    },
    {
     "name": "stdout",
     "output_type": "stream",
     "text": [
      "Step [4200/5000], Loss: 0.3391364812850952\n",
      "accuracy 0.867595818815331\n"
     ]
    },
    {
     "name": "stderr",
     "output_type": "stream",
     "text": [
      " 86%|████████▌ | 4301/5000 [36:42<06:19,  1.84it/s]"
     ]
    },
    {
     "name": "stdout",
     "output_type": "stream",
     "text": [
      "Step [4300/5000], Loss: 0.3590273857116699\n",
      "accuracy 0.8212512413108243\n"
     ]
    },
    {
     "name": "stderr",
     "output_type": "stream",
     "text": [
      " 88%|████████▊ | 4401/5000 [37:34<05:05,  1.96it/s]"
     ]
    },
    {
     "name": "stdout",
     "output_type": "stream",
     "text": [
      "Step [4400/5000], Loss: 0.3490925133228302\n",
      "accuracy 0.8454636091724825\n"
     ]
    },
    {
     "name": "stderr",
     "output_type": "stream",
     "text": [
      " 90%|█████████ | 4501/5000 [38:27<04:20,  1.91it/s]"
     ]
    },
    {
     "name": "stdout",
     "output_type": "stream",
     "text": [
      "Step [4500/5000], Loss: 0.3532465696334839\n",
      "accuracy 0.8476104598737602\n"
     ]
    },
    {
     "name": "stderr",
     "output_type": "stream",
     "text": [
      " 92%|█████████▏| 4601/5000 [39:19<03:22,  1.97it/s]"
     ]
    },
    {
     "name": "stdout",
     "output_type": "stream",
     "text": [
      "Step [4600/5000], Loss: 0.34430840611457825\n",
      "accuracy 0.8486238532110092\n"
     ]
    },
    {
     "name": "stderr",
     "output_type": "stream",
     "text": [
      " 94%|█████████▍| 4701/5000 [40:11<02:34,  1.94it/s]"
     ]
    },
    {
     "name": "stdout",
     "output_type": "stream",
     "text": [
      "Step [4700/5000], Loss: 0.34285834431648254\n",
      "accuracy 0.82483781278962\n"
     ]
    },
    {
     "name": "stderr",
     "output_type": "stream",
     "text": [
      " 96%|█████████▌| 4801/5000 [41:02<01:37,  2.04it/s]"
     ]
    },
    {
     "name": "stdout",
     "output_type": "stream",
     "text": [
      "Step [4800/5000], Loss: 0.34579795598983765\n",
      "accuracy 0.8269565217391305\n"
     ]
    },
    {
     "name": "stderr",
     "output_type": "stream",
     "text": [
      " 98%|█████████▊| 4901/5000 [41:52<00:48,  2.03it/s]"
     ]
    },
    {
     "name": "stdout",
     "output_type": "stream",
     "text": [
      "Step [4900/5000], Loss: 0.337643563747406\n",
      "accuracy 0.8861788617886179\n"
     ]
    },
    {
     "name": "stderr",
     "output_type": "stream",
     "text": [
      "100%|██████████| 5000/5000 [42:42<00:00,  1.95it/s]\n"
     ]
    }
   ],
   "source": [
    "losss = []\n",
    "loss_moving_average = 0\n",
    "# Training Loop\n",
    "num_training_steps = 5000\n",
    "for i_step in tqdm(range(num_training_steps)):\n",
    "\n",
    "        # To draw samples, use neurogym's dataset class:\n",
    "        inputs, labels = dataset()\n",
    "        labels = compress_labels(labels)\n",
    "\n",
    "        fixation_mask_npy = inputs[:,:,0] > 0  # Shape: [100, 64]\n",
    "        fixation_mask = torch.tensor(fixation_mask).to(device)\n",
    "\n",
    "        inputs = np.transpose(inputs, (1, 0, 2))\n",
    "        labels = np.transpose(labels, (1, 0))\n",
    "\n",
    "        outputs_total,_,_,_,attention_weights = model(torch.tensor(inputs,dtype=torch.float).to(device))\n",
    "\n",
    "        outputs_reshaped = outputs_total.permute(1, 0, 2)  # Reshape to [100, 64, 17]\n",
    "\n",
    "        criterion = nn.CrossEntropyLoss() # ignore_index=0)\n",
    "        \n",
    "        base_loss = criterion(outputs_total.reshape(-1,act_size), torch.tensor(labels).to(device).reshape(-1))\n",
    "\n",
    "        compressed_activation = compress_labels(~fixation_mask_npy.T)\n",
    "        compressed_activation   = torch.tensor(compressed_activation).to(device).T\n",
    "        active_mask = ~compressed_activation.reshape(-1)\n",
    "        masked_loss = base_loss\n",
    "\n",
    "        # Add fixation penalty\n",
    "        fixation_penalty = outputs_reshaped[fixation_mask].pow(2).mean()\n",
    "\n",
    "        # we add a penality for the size of attention weights\n",
    "        n_att_weights = attention_weights.numel()\n",
    "        loss_attention = torch.sum(torch.abs(attention_weights)) / n_att_weights\n",
    "\n",
    "        total_loss = masked_loss  + 0.1 * fixation_penalty + 0.1*loss_attention\n",
    "\n",
    "        optimizer.zero_grad()\n",
    "        total_loss.backward()\n",
    "        optimizer.step()\n",
    "\n",
    "        # loss moving average\n",
    "        loss_moving_average = 0.99 * loss_moving_average + 0.01 * total_loss.item()\n",
    "        losss.append(loss_moving_average)\n",
    "\n",
    "        mask = labels > 0\n",
    "        output_max = np.argmax(outputs_total.detach().cpu().numpy(),axis=2)\n",
    "        accuracy = np.sum((output_max==labels)*mask)/ np.sum(mask)\n",
    "\n",
    "\n",
    "        if i_step % 100 == 0:\n",
    "            print(f'Step [{i_step}/{num_training_steps}], Loss: {total_loss.item()}')\n",
    "            print('accuracy',accuracy)\n"
   ]
  },
  {
   "cell_type": "code",
   "execution_count": 23,
   "metadata": {},
   "outputs": [
    {
     "data": {
      "image/png": "[encoded data removed]",
      "text/plain": [
       "<Figure size 640x480 with 1 Axes>"
      ]
     },
     "metadata": {},
     "output_type": "display_data"
    },
    {
     "data": {
      "image/png": "[encoded data removed]",
      "text/plain": [
       "<Figure size 640x480 with 1 Axes>"
      ]
     },
     "metadata": {},
     "output_type": "display_data"
    },
    {
     "data": {
      "image/png": "[encoded data removed]",
      "text/plain": [
       "<Figure size 640x480 with 1 Axes>"
      ]
     },
     "metadata": {},
     "output_type": "display_data"
    }
   ],
   "source": [
    "\n",
    "inputs, labels = dataset()\n",
    "labels = np.transpose(labels, (1, 0))\n",
    "plt.figure()\n",
    "plt.imshow(labels)\n",
    "plt.show()\n",
    "labels_compressed = compress_labels(labels)\n",
    "plt.figure()\n",
    "plt.imshow(labels_compressed)\n",
    "plt.show()\n",
    "\n",
    "fixation_mask = inputs[:,:,0] > 0  # Shape: [100, 64]\n",
    "fixation_mask = torch.tensor(fixation_mask).to(device)\n",
    "\n",
    "compressed_fixation = compress_labels((~fixation_mask).cpu().numpy().T)\n",
    "plt.figure()\n",
    "plt.imshow(compressed_fixation)\n",
    "plt.show()"
   ]
  },
  {
   "cell_type": "code",
   "execution_count": 21,
   "metadata": {},
   "outputs": [
    {
     "data": {
      "text/plain": [
       "torch.Size([6400])"
      ]
     },
     "execution_count": 21,
     "metadata": {},
     "output_type": "execute_result"
    }
   ],
   "source": [
    "active_mask.shape"
   ]
  },
  {
   "cell_type": "code",
   "execution_count": 7,
   "metadata": {},
   "outputs": [],
   "source": [
    "#save the model\n",
    "save = True\n",
    "\n",
    "if save:\n",
    "\n",
    "    name = \"model_rim_12_mono\"\n",
    "    \n",
    "    torch.save(model.state_dict(), 'saved_models/'+name+'.pth')\n",
    "\n",
    "    # save the parameters\n",
    "    parameters = {'input_size': input_size,\n",
    "                'hidden_size': hidden_size,\n",
    "                'output_size': output_size,\n",
    "                'num_mechanisms': num_mechanisms,\n",
    "                'key_size': key_size,\n",
    "                'rank': rank,\n",
    "                'num_heads': num_heads}\n",
    "    # yaml\n",
    "    import yaml\n",
    "    with open('saved_models/'+name+'.yaml', 'w') as file:\n",
    "        documents = yaml.dump(parameters, file)"
   ]
  },
  {
   "cell_type": "code",
   "execution_count": 8,
   "metadata": {},
   "outputs": [
    {
     "data": {
      "text/plain": [
       "torch.Size([100, 64])"
      ]
     },
     "execution_count": 8,
     "metadata": {},
     "output_type": "execute_result"
    }
   ],
   "source": [
    "fixation_mask.shape"
   ]
  }
 ],
 "metadata": {
  "kernelspec": {
   "display_name": ".venv",
   "language": "python",
   "name": "python3"
  },
  "language_info": {
   "codemirror_mode": {
    "name": "ipython",
    "version": 3
   },
   "file_extension": ".py",
   "mimetype": "text/x-python",
   "name": "python",
   "nbconvert_exporter": "python",
   "pygments_lexer": "ipython3",
   "version": "3.11.4"
  }
 },
 "nbformat": 4,
 "nbformat_minor": 2
}
